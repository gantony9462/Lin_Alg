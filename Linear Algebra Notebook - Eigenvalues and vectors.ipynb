{
 "cells": [
  {
   "cell_type": "markdown",
   "metadata": {},
   "source": [
    "### Linear Algebra Experiments with Python Jupyter Notebook"
   ]
  },
  {
   "cell_type": "code",
   "execution_count": 1,
   "metadata": {
    "collapsed": true
   },
   "outputs": [],
   "source": [
    "#To support both Python 2 and Python 3\n",
    "from __future__ import division, print_function, unicode_literals"
   ]
  },
  {
   "cell_type": "code",
   "execution_count": 2,
   "metadata": {
    "collapsed": true
   },
   "outputs": [],
   "source": [
    "#Common imports\n",
    "import os\n",
    "import numpy as np"
   ]
  },
  {
   "cell_type": "code",
   "execution_count": 3,
   "metadata": {
    "collapsed": true
   },
   "outputs": [],
   "source": [
    "#to make notebooks output consistent across notebooks\n",
    "np.random.seed(42)"
   ]
  },
  {
   "cell_type": "code",
   "execution_count": 7,
   "metadata": {},
   "outputs": [],
   "source": [
    "#for printing pretty pictures\n",
    "%matplotlib inline\n",
    "import matplotlib\n",
    "import matplotlib.pyplot as plt"
   ]
  },
  {
   "cell_type": "code",
   "execution_count": 8,
   "metadata": {
    "collapsed": true
   },
   "outputs": [],
   "source": [
    "#workspace directory\n",
    "PROJECT_ROOT_DIR = './Lin_Alg'\n",
    "CHAPTER_ID = 'BASICS'"
   ]
  },
  {
   "cell_type": "code",
   "execution_count": 9,
   "metadata": {
    "collapsed": true
   },
   "outputs": [],
   "source": [
    "def sav_fig(fig_id, tight_layout=True):\n",
    "    path = os.path.join(PROJECT_ROOT_DIR, \"images\", CHAPTER_ID, fig_id + \".jpg\")\n",
    "    print('Saving figure', fig_id)\n",
    "    if tight_layout:\n",
    "        plt.tight_layout()\n",
    "    plt.savefig(path, format='jpg', dpi=300)"
   ]
  },
  {
   "cell_type": "markdown",
   "metadata": {},
   "source": [
    "## Eigenvalues and eigenvectors"
   ]
  },
  {
   "cell_type": "markdown",
   "metadata": {},
   "source": [
    "### Let us start by looking at the equation:\n",
    "$$Ax=\\lambda x$$"
   ]
  },
  {
   "cell_type": "markdown",
   "metadata": {},
   "source": [
    "This looks as if we are trying to solve a system of equations that we are so familiar with through out the course already.  However there are a couple things we may notice:\n",
    "1. the right side is not exactly another arbitray vector __b__ but a scalar $\\lambda$ multiple of the the same unknown vector x\n",
    "2. we are proposing that the matrix multiplication on left simply be a scalar multiplication with $\\lambda$, which we will be happier to do.  In fact the scalar mulptiplication is simply a scaling of the vector in the same direction(see figure below)"
   ]
  },
  {
   "cell_type": "markdown",
   "metadata": {},
   "source": [
    "Of course you now would be pretty intrigued \n",
    "- whether and how this is even possible, and\n",
    "\n",
    "- if we could get away with a scalar multiplication, why would we ever want to do matrix mulptiplication in the first place.  \n",
    "\n",
    "The answers are, for every matrix this would happen only for special directions v(__eigenvectors__) and special scalars $\\lambda$ (__eigenvalues__) for special to that matrix!"
   ]
  },
  {
   "cell_type": "markdown",
   "metadata": {},
   "source": [
    "For example, let A =$\\begin{bmatrix}\n",
    "    3&0&-1\\\\\n",
    "    2&3&1\\\\\n",
    "    -3&4&5\\\\\n",
    "    \\end{bmatrix}$  b =$\\begin{bmatrix}\n",
    "    1\\\\\n",
    "    1\\\\\n",
    "    -1\\\\\n",
    "    \\end{bmatrix}$\n",
    "    and  $\\lambda = 4$   "
   ]
  },
  {
   "cell_type": "code",
   "execution_count": 22,
   "metadata": {},
   "outputs": [
    {
     "name": "stdout",
     "output_type": "stream",
     "text": [
      "[[ 4]\n",
      " [ 4]\n",
      " [-4]]\n"
     ]
    }
   ],
   "source": [
    "#In fact\n",
    "A = np.array([3,0,-1,2,3,1,-3,4,5]).reshape(3,3)\n",
    "x = np.array([1,1,-1]).reshape(3,1)\n",
    "print(np.dot(A,x))"
   ]
  },
  {
   "cell_type": "code",
   "execution_count": 23,
   "metadata": {},
   "outputs": [
    {
     "data": {
      "text/plain": [
       "array([[0],\n",
       "       [0],\n",
       "       [0]])"
      ]
     },
     "execution_count": 23,
     "metadata": {},
     "output_type": "execute_result"
    }
   ],
   "source": [
    "#and notice A*x = 4*x\n",
    "np.dot(A,x)-4*x"
   ]
  },
  {
   "cell_type": "code",
   "execution_count": 17,
   "metadata": {},
   "outputs": [
    {
     "data": {
      "text/plain": [
       "array([[ 1],\n",
       "       [ 1],\n",
       "       [-1]])"
      ]
     },
     "execution_count": 17,
     "metadata": {},
     "output_type": "execute_result"
    }
   ],
   "source": []
  },
  {
   "cell_type": "code",
   "execution_count": 20,
   "metadata": {},
   "outputs": [
    {
     "data": {
      "text/plain": [
       "array([[ 4],\n",
       "       [ 4],\n",
       "       [-4]])"
      ]
     },
     "execution_count": 20,
     "metadata": {},
     "output_type": "execute_result"
    }
   ],
   "source": [
    "np.dot(A,x)"
   ]
  },
  {
   "cell_type": "code",
   "execution_count": 116,
   "metadata": {},
   "outputs": [
    {
     "data": {
      "image/png": "[encoded data removed]",
      "text/plain": [
       "<matplotlib.figure.Figure at 0x297b4e34080>"
      ]
     },
     "metadata": {},
     "output_type": "display_data"
    }
   ],
   "source": [
    "#Now as for item 2:  The matrix multiplication is simply a strech by 4\n",
    "from mpl_toolkits.mplot3d import Axes3D\n",
    "vectors = np.array([[0,0,0,1,1,-1],[0,0,0,4,4,-4]])\n",
    "fig = plt.figure()\n",
    "ax = fig.add_subplot(111,projection = '3d')\n",
    "colors=['r','b']\n",
    "i=0\n",
    "for vector in vectors:\n",
    "    v=np.array([vector[3],vector[4],vector[5]])\n",
    "    vlength = np.linalg.norm(v)\n",
    "    ax.quiver(vector[0],vector[1],vector[2],vector[3],vector[4],vector[5],\n",
    "             pivot='tail',arrow_length_ratio=.8/vlength,color=colors[i])\n",
    "    i=+1\n",
    "ax.set_xlim([0,6])\n",
    "ax.set_ylim([0,8])\n",
    "ax.set_zlim([-5,3])\n",
    "ax.set_xlabel('x')\n",
    "#ax.set_xlabel('y')\n",
    "#ax.set_xlabel('z')\n",
    "ax.view_init(180,15)\n",
    "#for angle in range(0,360,30):\n",
    "#    ax.view_init(40,angle)\n",
    "#    plt.draw()\n",
    "#    plt.pause(0.001)\n"
   ]
  },
  {
   "cell_type": "markdown",
   "metadata": {},
   "source": [
    "__Now it might sound like pretty interesting proposal:  That matrix multiplication can be interpretted simply as a stretch__ In fact it is: much of the rest of the material is somewhat related to this idea.  However, as you know, matrix multiplication is a transformation that scales and rotates vectors.  So if you can factor in the rotation part, then perhaps, everything can be accounted for perhaps using eigenvalues and eigenvectors?!?  The spectral theorem for matrices roughly is just that: matrix multiplication of a sysmmetric matric can be accounted for by a series of strecthes and and rotations!  We need to develop some more tools to get there."
   ]
  },
  {
   "cell_type": "code",
   "execution_count": null,
   "metadata": {
    "collapsed": true
   },
   "outputs": [],
   "source": []
  }
 ],
 "metadata": {
  "kernelspec": {
   "display_name": "Python 3",
   "language": "python",
   "name": "python3"
  },
  "language_info": {
   "codemirror_mode": {
    "name": "ipython",
    "version": 3
   },
   "file_extension": ".py",
   "mimetype": "text/x-python",
   "name": "python",
   "nbconvert_exporter": "python",
   "pygments_lexer": "ipython3",
   "version": "3.6.1"
  }
 },
 "nbformat": 4,
 "nbformat_minor": 2
}
